{
 "cells": [
  {
   "cell_type": "markdown",
   "metadata": {},
   "source": [
    "Foram as instalações no comando do github"
   ]
  }
 ],
 "metadata": {
  "language_info": {
   "name": "python"
  },
  "orig_nbformat": 4
 },
 "nbformat": 4,
 "nbformat_minor": 2
}
