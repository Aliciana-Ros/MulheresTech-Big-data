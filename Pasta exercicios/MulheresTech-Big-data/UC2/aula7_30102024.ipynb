{
 "cells": [
  {
   "cell_type": "code",
   "execution_count": 1,
   "metadata": {},
   "outputs": [],
   "source": [
    "import pandas as pd\n",
    "import numpy as np\n",
    "import random\n"
   ]
  },
  {
   "cell_type": "code",
   "execution_count": 2,
   "metadata": {},
   "outputs": [
    {
     "name": "stdout",
     "output_type": "stream",
     "text": [
      "[4, 92, 91, 93, 98, 19, 55, 39, 68, 84, 97, 3, 51, 61, 54, 42, 64, 1, 4, 16]\n",
      "[ 4 92 91 93 98 19 55 39 68 84 97  3 51 61 54 42 64  1  4 16]\n"
     ]
    }
   ],
   "source": [
    "amostra=[random.randint(1,99) for _ in range(20)]\n",
    "print (amostra)\n",
    "dados=np.array(amostra)\n",
    "print(dados)"
   ]
  },
  {
   "cell_type": "code",
   "execution_count": 3,
   "metadata": {},
   "outputs": [
    {
     "name": "stdout",
     "output_type": "stream",
     "text": [
      "Priemiro Quartil(Q1):18.25\n",
      "Segundo Quartil(Q2):54.5\n",
      "Terceiro Quartil(Q3):85.75\n"
     ]
    }
   ],
   "source": [
    "#Calculo dos Quartis:\n",
    "q1=np.percentile(dados,25)\n",
    "q2=np.percentile(dados,50)\n",
    "q3=np.percentile(dados,75)\n",
    "\n",
    "# Exibição:\n",
    "print(f\"Priemiro Quartil(Q1):{q1}\")\n",
    "print(f\"Segundo Quartil(Q2):{q2}\")\n",
    "print(f\"Terceiro Quartil(Q3):{q3}\")"
   ]
  },
  {
   "cell_type": "code",
   "execution_count": 4,
   "metadata": {},
   "outputs": [],
   "source": [
    "#LEMBRE-SE: no terminal, rodar 'pip install matplotlib\n",
    "import matplotlib.pyplot as plt "
   ]
  }
 ],
 "metadata": {
  "kernelspec": {
   "display_name": "virtual1",
   "language": "python",
   "name": "python3"
  },
  "language_info": {
   "codemirror_mode": {
    "name": "ipython",
    "version": 3
   },
   "file_extension": ".py",
   "mimetype": "text/x-python",
   "name": "python",
   "nbconvert_exporter": "python",
   "pygments_lexer": "ipython3",
   "version": "3.11.4"
  },
  "orig_nbformat": 4
 },
 "nbformat": 4,
 "nbformat_minor": 2
}
